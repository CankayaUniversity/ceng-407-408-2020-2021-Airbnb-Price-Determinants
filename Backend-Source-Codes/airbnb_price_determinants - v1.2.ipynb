{
 "cells": [
  {
   "cell_type": "markdown",
   "metadata": {},
   "source": [
    "# Model Training "
   ]
  },
  {
   "cell_type": "markdown",
   "metadata": {},
   "source": [
    "## Random Forests"
   ]
  },
  {
   "cell_type": "code",
   "execution_count": 64,
   "metadata": {},
   "outputs": [],
   "source": [
    "#Import library\n",
    "from sklearn.ensemble import RandomForestRegressor\n",
    "from sklearn.model_selection import train_test_split, GridSearchCV,cross_val_score\n",
    "from sklearn.metrics import mean_squared_error, r2_score"
   ]
  },
  {
   "cell_type": "code",
   "execution_count": 65,
   "metadata": {},
   "outputs": [],
   "source": [
    "#df=airbnb\n",
    "df = airbnb.copy()"
   ]
  },
  {
   "cell_type": "code",
   "execution_count": 66,
   "metadata": {},
   "outputs": [
    {
     "data": {
      "text/plain": [
       "(24440, 174)"
      ]
     },
     "execution_count": 66,
     "metadata": {},
     "output_type": "execute_result"
    }
   ],
   "source": [
    "#Checking airbnb copy(df) shape\n",
    "df.shape"
   ]
  },
  {
   "cell_type": "code",
   "execution_count": 67,
   "metadata": {
    "scrolled": false
   },
   "outputs": [
    {
     "data": {
      "text/plain": [
       "['host_response_rate',\n",
       " 'host_acceptance_rate',\n",
       " 'host_listings_count',\n",
       " 'host_total_listings_count',\n",
       " 'latitude',\n",
       " 'longitude',\n",
       " 'accommodates',\n",
       " 'bathrooms_text',\n",
       " 'bedrooms',\n",
       " 'beds',\n",
       " 'price',\n",
       " 'minimum_nights',\n",
       " 'maximum_nights',\n",
       " 'minimum_minimum_nights',\n",
       " 'maximum_minimum_nights',\n",
       " 'minimum_maximum_nights',\n",
       " 'maximum_maximum_nights',\n",
       " 'minimum_nights_avg_ntm',\n",
       " 'maximum_nights_avg_ntm',\n",
       " 'availability_30',\n",
       " 'availability_60',\n",
       " 'availability_90',\n",
       " 'availability_365',\n",
       " 'number_of_reviews',\n",
       " 'number_of_reviews_ltm',\n",
       " 'number_of_reviews_l30d',\n",
       " 'review_scores_rating',\n",
       " 'review_scores_accuracy',\n",
       " 'review_scores_cleanliness',\n",
       " 'review_scores_checkin',\n",
       " 'review_scores_communication',\n",
       " 'review_scores_location',\n",
       " 'review_scores_value',\n",
       " 'calculated_host_listings_count',\n",
       " 'calculated_host_listings_count_entire_homes',\n",
       " 'calculated_host_listings_count_private_rooms',\n",
       " 'calculated_host_listings_count_shared_rooms',\n",
       " 'reviews_per_month',\n",
       " 'Adalar',\n",
       " 'Arnavutkoy',\n",
       " 'Atasehir',\n",
       " 'Avcilar',\n",
       " 'Bagcilar',\n",
       " 'Bahcelievler',\n",
       " 'Bakirkoy',\n",
       " 'Basaksehir',\n",
       " 'Bayrampasa',\n",
       " 'Besiktas',\n",
       " 'Beykoz',\n",
       " 'Beylikduzu',\n",
       " 'Beyoglu',\n",
       " 'Buyukcekmece',\n",
       " 'Catalca',\n",
       " 'Cekmekoy',\n",
       " 'Esenler',\n",
       " 'Esenyurt',\n",
       " 'Eyup',\n",
       " 'Fatih',\n",
       " 'Gaziosmanpasa',\n",
       " 'Gungoren',\n",
       " 'Kadikoy',\n",
       " 'Kagithane',\n",
       " 'Kartal',\n",
       " 'Kucukcekmece',\n",
       " 'Maltepe',\n",
       " 'Pendik',\n",
       " 'Sancaktepe',\n",
       " 'Sariyer',\n",
       " 'Sile',\n",
       " 'Silivri',\n",
       " 'Sisli',\n",
       " 'Sultanbeyli',\n",
       " 'Sultangazi',\n",
       " 'Tuzla',\n",
       " 'Umraniye',\n",
       " 'Uskudar',\n",
       " 'Zeytinburnu',\n",
       " 'Boat',\n",
       " 'Camper/RV',\n",
       " 'Campsite',\n",
       " 'Casa particular',\n",
       " 'Castle',\n",
       " 'Dome house',\n",
       " 'Earth house',\n",
       " 'Entire apartment',\n",
       " 'Entire bed and breakfast',\n",
       " 'Entire bungalow',\n",
       " 'Entire chalet',\n",
       " 'Entire condominium',\n",
       " 'Entire cottage',\n",
       " 'Entire guest suite',\n",
       " 'Entire guesthouse',\n",
       " 'Entire hostel',\n",
       " 'Entire house',\n",
       " 'Entire loft',\n",
       " 'Entire place',\n",
       " 'Entire serviced apartment',\n",
       " 'Entire townhouse',\n",
       " 'Entire villa',\n",
       " 'Farm stay',\n",
       " 'Hut',\n",
       " 'Island',\n",
       " 'Lighthouse',\n",
       " 'Private room in apartment',\n",
       " 'Private room in bed and breakfast',\n",
       " 'Private room in boat',\n",
       " 'Private room in bungalow',\n",
       " 'Private room in cabin',\n",
       " 'Private room in camper/rv',\n",
       " 'Private room in casa particular',\n",
       " 'Private room in castle',\n",
       " 'Private room in chalet',\n",
       " 'Private room in condominium',\n",
       " 'Private room in earth house',\n",
       " 'Private room in farm stay',\n",
       " 'Private room in guest suite',\n",
       " 'Private room in guesthouse',\n",
       " 'Private room in hostel',\n",
       " 'Private room in house',\n",
       " 'Private room in houseboat',\n",
       " 'Private room in hut',\n",
       " 'Private room in loft',\n",
       " 'Private room in nature lodge',\n",
       " 'Private room in pension',\n",
       " 'Private room in pousada',\n",
       " 'Private room in serviced apartment',\n",
       " 'Private room in tent',\n",
       " 'Private room in tiny house',\n",
       " 'Private room in townhouse',\n",
       " 'Private room in treehouse',\n",
       " 'Private room in villa',\n",
       " 'Private room in yurt',\n",
       " 'Room in aparthotel',\n",
       " 'Room in bed and breakfast',\n",
       " 'Room in boutique hotel',\n",
       " 'Room in casa particular',\n",
       " 'Room in hostel',\n",
       " 'Room in hotel',\n",
       " 'Room in nature lodge',\n",
       " 'Room in pension',\n",
       " 'Room in serviced apartment',\n",
       " 'Shared room in aparthotel',\n",
       " 'Shared room in apartment',\n",
       " 'Shared room in bed and breakfast',\n",
       " 'Shared room in boutique hotel',\n",
       " 'Shared room in cabin',\n",
       " 'Shared room in casa particular',\n",
       " 'Shared room in cave',\n",
       " 'Shared room in chalet',\n",
       " 'Shared room in condominium',\n",
       " 'Shared room in earth house',\n",
       " 'Shared room in guest suite',\n",
       " 'Shared room in guesthouse',\n",
       " 'Shared room in hostel',\n",
       " 'Shared room in hotel',\n",
       " 'Shared room in house',\n",
       " 'Shared room in loft',\n",
       " 'Shared room in nature lodge',\n",
       " 'Shared room in pension',\n",
       " 'Shared room in serviced apartment',\n",
       " 'Shared room in tiny house',\n",
       " 'Shared room in townhouse',\n",
       " 'Shared room in villa',\n",
       " 'Shared room in yurt',\n",
       " 'Tent',\n",
       " 'Tiny house',\n",
       " 'Treehouse',\n",
       " 'Windmill',\n",
       " 'Yurt',\n",
       " 'Hotel room',\n",
       " 'Entire home/apt',\n",
       " 'Hotel room',\n",
       " 'Private room',\n",
       " 'Shared room']"
      ]
     },
     "execution_count": 67,
     "metadata": {},
     "output_type": "execute_result"
    }
   ],
   "source": [
    "#Detailed representation of df columns\n",
    "pd.set_option('display.max_rows', None)\n",
    "list(df.columns)"
   ]
  },
  {
   "cell_type": "code",
   "execution_count": 68,
   "metadata": {},
   "outputs": [],
   "source": [
    "#Drop out of classes in property_type with less than 158 members\n",
    "df.drop(['Private room in loft','Room in serviced apartment','Shared room in hostel','Private room in hostel',\n",
    "'Private room in villa','Room in bed and breakfast','Shared room in house','Private room in casa particular',\n",
    "'Tiny house','Private room in guesthouse','Room in hostel','Shared room in serviced apartment',\n",
    "'Shared room in yurt','Shared room in condominium','Private room in tiny house','Private room in guest suite',\n",
    "'Entire guesthouse','Entire guest suite','Shared room in bed and breakfast','Shared room in townhouse',\n",
    "'Farm stay','Casa particular','Camper/RV','Entire bed and breakfast','Shared room in boutique hotel',\n",
    "'Entire cottage','Private room in nature lodge','Entire bungalow','Shared room in loft','Entire place',\n",
    "'Earth house','Private room in yurt','Boat','Shared room in aparthotel','Entire chalet',\n",
    "'Private room in treehouse','Castle','Private room in farm stay','Shared room in tiny house',\n",
    "'Private room in earth house','Shared room in guesthouse','Shared room in hotel',\n",
    "'Shared room in casa particular','Shared room in villa','Private room in boat','Shared room in guest suite',\n",
    "'Shared room in earth house','Lighthouse','Dome house','Private room in chalet','Private room in pousada',\n",
    "'Room in pension','Private room in tent','Private room in bungalow','Island','Entire hostel','Tent',\n",
    "'Private room in pension','Private room in cabin','Private room in hut','Private room in castle','Yurt',\n",
    "'Room in nature lodge','Campsite','Private room in camper/rv','Shared room in cabin','Treehouse',\n",
    "'Room in casa particular','Shared room in cave','Shared room in pension','Private room in houseboat',\n",
    "'Shared room in chalet','Hut','Windmill','Shared room in nature lodge'],axis=1,inplace=True)\n"
   ]
  },
  {
   "cell_type": "code",
   "execution_count": 69,
   "metadata": {},
   "outputs": [],
   "source": [
    "#Drop features that are not required for the Airbnb Price Determinant Platform\n",
    "df.drop(['host_response_rate',\n",
    " 'host_acceptance_rate',\n",
    " 'host_listings_count',\n",
    " 'host_total_listings_count',\n",
    " 'latitude',\n",
    " 'longitude',\n",
    " 'accommodates',\n",
    " 'minimum_nights',\n",
    " 'maximum_nights',\n",
    " 'minimum_minimum_nights',\n",
    " 'maximum_minimum_nights',\n",
    " 'minimum_maximum_nights',\n",
    " 'maximum_maximum_nights',\n",
    " 'minimum_nights_avg_ntm',\n",
    " 'maximum_nights_avg_ntm',\n",
    " 'availability_30',\n",
    " 'availability_60',\n",
    " 'availability_90',\n",
    " 'availability_365',\n",
    " 'number_of_reviews',\n",
    " 'number_of_reviews_ltm',\n",
    " 'number_of_reviews_l30d',\n",
    " 'review_scores_rating',\n",
    " 'review_scores_accuracy',\n",
    " 'review_scores_cleanliness',\n",
    " 'review_scores_checkin',\n",
    " 'review_scores_communication',\n",
    " 'review_scores_location',\n",
    " 'review_scores_value',\n",
    " 'calculated_host_listings_count',\n",
    " 'calculated_host_listings_count_entire_homes',\n",
    " 'calculated_host_listings_count_private_rooms',\n",
    " 'calculated_host_listings_count_shared_rooms',\n",
    " 'reviews_per_month',],axis=1,inplace=True)"
   ]
  },
  {
   "cell_type": "code",
   "execution_count": 70,
   "metadata": {},
   "outputs": [
    {
     "data": {
      "text/plain": [
       "(24440, 65)"
      ]
     },
     "execution_count": 70,
     "metadata": {},
     "output_type": "execute_result"
    }
   ],
   "source": [
    "#Checking airbnb copy(df) shape\n",
    "df.shape"
   ]
  },
  {
   "cell_type": "code",
   "execution_count": 71,
   "metadata": {},
   "outputs": [
    {
     "data": {
      "text/plain": [
       "['bathrooms_text',\n",
       " 'bedrooms',\n",
       " 'beds',\n",
       " 'price',\n",
       " 'Adalar',\n",
       " 'Arnavutkoy',\n",
       " 'Atasehir',\n",
       " 'Avcilar',\n",
       " 'Bagcilar',\n",
       " 'Bahcelievler',\n",
       " 'Bakirkoy',\n",
       " 'Basaksehir',\n",
       " 'Bayrampasa',\n",
       " 'Besiktas',\n",
       " 'Beykoz',\n",
       " 'Beylikduzu',\n",
       " 'Beyoglu',\n",
       " 'Buyukcekmece',\n",
       " 'Catalca',\n",
       " 'Cekmekoy',\n",
       " 'Esenler',\n",
       " 'Esenyurt',\n",
       " 'Eyup',\n",
       " 'Fatih',\n",
       " 'Gaziosmanpasa',\n",
       " 'Gungoren',\n",
       " 'Kadikoy',\n",
       " 'Kagithane',\n",
       " 'Kartal',\n",
       " 'Kucukcekmece',\n",
       " 'Maltepe',\n",
       " 'Pendik',\n",
       " 'Sancaktepe',\n",
       " 'Sariyer',\n",
       " 'Sile',\n",
       " 'Silivri',\n",
       " 'Sisli',\n",
       " 'Sultanbeyli',\n",
       " 'Sultangazi',\n",
       " 'Tuzla',\n",
       " 'Umraniye',\n",
       " 'Uskudar',\n",
       " 'Zeytinburnu',\n",
       " 'Entire apartment',\n",
       " 'Entire condominium',\n",
       " 'Entire house',\n",
       " 'Entire loft',\n",
       " 'Entire serviced apartment',\n",
       " 'Entire townhouse',\n",
       " 'Entire villa',\n",
       " 'Private room in apartment',\n",
       " 'Private room in bed and breakfast',\n",
       " 'Private room in condominium',\n",
       " 'Private room in house',\n",
       " 'Private room in serviced apartment',\n",
       " 'Private room in townhouse',\n",
       " 'Room in aparthotel',\n",
       " 'Room in boutique hotel',\n",
       " 'Room in hotel',\n",
       " 'Shared room in apartment',\n",
       " 'Hotel room',\n",
       " 'Entire home/apt',\n",
       " 'Hotel room',\n",
       " 'Private room',\n",
       " 'Shared room']"
      ]
     },
     "execution_count": 71,
     "metadata": {},
     "output_type": "execute_result"
    }
   ],
   "source": [
    "pd.set_option('display.max_rows', None)\n",
    "list(df.columns)"
   ]
  },
  {
   "cell_type": "code",
   "execution_count": 72,
   "metadata": {},
   "outputs": [],
   "source": [
    "#TEST 0\n",
    "#rf_model mean_squared_error=591.1337311190539\n",
    "#rf_tuned mean_squared_error=580.4197063127456\n",
    "#feature 65"
   ]
  },
  {
   "cell_type": "code",
   "execution_count": 73,
   "metadata": {},
   "outputs": [],
   "source": [
    "#TEST 1\n",
    "#rf_model mean_squared_error=587.636855459673\n",
    "#rf_tuned mean_squared_error=573.014077177704\n",
    "#feature 65->47\n",
    "#dropped 0.0... and 0.00...\n",
    "df.drop(['Atasehir','Avcilar','Bagcilar','Bahcelievler','Bakirkoy','Bayrampasa','Beylikduzu','Catalca','Cekmekoy',\n",
    "'Esenler','Gaziosmanpasa','Gungoren','Kartal','Pendik','Sancaktepe','Sultanbeyli','Sultangazi','Tuzla'],axis=1,inplace=True)"
   ]
  },
  {
   "cell_type": "markdown",
   "metadata": {},
   "source": [
    "***Atasehir   0.080843<br>\n",
    "Avcilar       0.059768<br>\n",
    "Bagcilar      0.040850<br>\n",
    "Bahcelievler  0.048892<br>\n",
    "Bakirkoy      0.079385<br>\n",
    "Bayrampasa    0.010626<br>\n",
    "Beylikduzu    0.067246<br>\n",
    "Catalca       0.031474<br>\n",
    "Cekmekoy      0.031351<br>\n",
    "Esenler       0.007115<br>\n",
    "Gaziosmanpasa 0.088927<br>\n",
    "Gungoren      0.004676<br>\n",
    "Kartal        0.050583<br>\n",
    "Pendik        0.031014<br>\n",
    "Sancaktepe    0.017832<br>\n",
    "Sultanbeyli   0.003509<br>\n",
    "Sultangazi    0.004400<br>\n",
    "Tuzla         0.068309<br>***"
   ]
  },
  {
   "cell_type": "code",
   "execution_count": 74,
   "metadata": {},
   "outputs": [],
   "source": [
    "#TEST 2\n",
    "#rf_model mean_squared_error=582.4553412408425\n",
    "#rf_tuned mean_squared_error=566.8661631212707\n",
    "#feature 47->40\n",
    "#dropped 0.1... and 0.2...\n",
    "df.drop(['Entire loft','Entire condominium','Entire townhouse','Entire serviced apartment','Private room in condominium',\n",
    "'Private room in townhouse','Room in aparthotel'],axis=1,inplace=True)"
   ]
  },
  {
   "cell_type": "markdown",
   "metadata": {},
   "source": [
    "***Entire loft                           0.085276<br>\n",
    "Entire condominium                    0.185649<br>\n",
    "Entire townhouse                      0.110871<br>\n",
    "Entire serviced apartment             0.243123<br>\n",
    "Private room in condominium           0.212524<br>\n",
    "Private room in townhouse             0.287370<br>\n",
    "Room in aparthotel                    0.211855<br>***"
   ]
  },
  {
   "cell_type": "code",
   "execution_count": 75,
   "metadata": {},
   "outputs": [],
   "source": [
    "#TEST 3\n",
    "#rf_model mean_squared_error=584.1681538477367\n",
    "#rf_tuned mean_squared_error=566.5669808099515\n",
    "#feature 40->34\n",
    "#dropped 0.2... and 0.3... 0.5...\n",
    "df.drop(['Private room in house','Private room in serviced apartment','Shared room in apartment','Hotel room','Private room in bed and breakfast'],axis=1,inplace=True)"
   ]
  },
  {
   "cell_type": "markdown",
   "metadata": {},
   "source": [
    "***Private room in house                 0.316958<br>\n",
    "Private room in serviced apartment    0.269792<br>\n",
    "Shared room in apartment              0.297676<br>\n",
    "Hotel room                            0.389874<br>***"
   ]
  },
  {
   "cell_type": "code",
   "execution_count": 76,
   "metadata": {},
   "outputs": [],
   "source": [
    "#TEST 4\n",
    "#rf_model mean_squared_error=583.7062865939537\n",
    "#rf_tuned mean_squared_error=566.485489050685\n",
    "#feature 34->32\n",
    "#dropped unnecessary features\n",
    "df.drop(['Room in boutique hotel','Room in hotel'],axis=1,inplace=True)"
   ]
  },
  {
   "cell_type": "markdown",
   "metadata": {},
   "source": [
    "***Private room in bed and breakfast    0.704659<br>\n",
    "Room in boutique hotel               0.458505<br>\n",
    "Room in hotel                        0.644327<br>***"
   ]
  },
  {
   "cell_type": "code",
   "execution_count": 77,
   "metadata": {},
   "outputs": [
    {
     "data": {
      "text/plain": [
       "(24440, 32)"
      ]
     },
     "execution_count": 77,
     "metadata": {},
     "output_type": "execute_result"
    }
   ],
   "source": [
    "#Checking airbnb copy(df) shape\n",
    "df.shape"
   ]
  },
  {
   "cell_type": "markdown",
   "metadata": {},
   "source": [
    "## Data Train-Test Split"
   ]
  },
  {
   "cell_type": "code",
   "execution_count": 78,
   "metadata": {},
   "outputs": [],
   "source": [
    "y = df[\"price\"]\n",
    "X= df.drop(['price'], axis=1).astype('int64')\n",
    "X_train, X_test, y_train, y_test = train_test_split(X, y, \n",
    "                                                    test_size=0.25, \n",
    "                                                    random_state=42)"
   ]
  },
  {
   "cell_type": "markdown",
   "metadata": {},
   "source": [
    "## Prediction"
   ]
  },
  {
   "cell_type": "code",
   "execution_count": 79,
   "metadata": {},
   "outputs": [],
   "source": [
    "rf_model = RandomForestRegressor(random_state = 42)"
   ]
  },
  {
   "cell_type": "code",
   "execution_count": 80,
   "metadata": {},
   "outputs": [
    {
     "data": {
      "text/plain": [
       "RandomForestRegressor(random_state=42)"
      ]
     },
     "execution_count": 80,
     "metadata": {},
     "output_type": "execute_result"
    }
   ],
   "source": [
    "rf_model.fit(X_train, y_train)"
   ]
  },
  {
   "cell_type": "code",
   "execution_count": 81,
   "metadata": {},
   "outputs": [
    {
     "data": {
      "text/plain": [
       "array([232.30698457, 368.60587138, 266.8695605 , 577.5       ,\n",
       "       440.26363387])"
      ]
     },
     "execution_count": 81,
     "metadata": {},
     "output_type": "execute_result"
    }
   ],
   "source": [
    "rf_model.predict(X_test)[0:5]"
   ]
  },
  {
   "cell_type": "code",
   "execution_count": 82,
   "metadata": {},
   "outputs": [],
   "source": [
    "y_pred = rf_model.predict(X_test)"
   ]
  },
  {
   "cell_type": "code",
   "execution_count": 83,
   "metadata": {},
   "outputs": [
    {
     "data": {
      "text/plain": [
       "583.7062865939537"
      ]
     },
     "execution_count": 83,
     "metadata": {},
     "output_type": "execute_result"
    }
   ],
   "source": [
    "np.sqrt(mean_squared_error(y_test, y_pred))"
   ]
  },
  {
   "cell_type": "markdown",
   "metadata": {},
   "source": [
    "## Model Tuning"
   ]
  },
  {
   "cell_type": "code",
   "execution_count": 84,
   "metadata": {},
   "outputs": [],
   "source": [
    "rf_tuned = RandomForestRegressor(max_depth  = 8, \n",
    "                                 max_features = 3, \n",
    "                                 n_estimators =200)"
   ]
  },
  {
   "cell_type": "code",
   "execution_count": 85,
   "metadata": {},
   "outputs": [
    {
     "data": {
      "text/plain": [
       "RandomForestRegressor(max_depth=8, max_features=3, n_estimators=200)"
      ]
     },
     "execution_count": 85,
     "metadata": {},
     "output_type": "execute_result"
    }
   ],
   "source": [
    "rf_tuned.fit(X_train, y_train)"
   ]
  },
  {
   "cell_type": "code",
   "execution_count": 86,
   "metadata": {},
   "outputs": [],
   "source": [
    "y_pred = rf_tuned.predict(X_test)"
   ]
  },
  {
   "cell_type": "code",
   "execution_count": 87,
   "metadata": {},
   "outputs": [
    {
     "data": {
      "text/plain": [
       "566.485489050685"
      ]
     },
     "execution_count": 87,
     "metadata": {},
     "output_type": "execute_result"
    }
   ],
   "source": [
    "#MSE error checking\n",
    "np.sqrt(mean_squared_error(y_test, y_pred))"
   ]
  },
  {
   "cell_type": "code",
   "execution_count": 88,
   "metadata": {
    "scrolled": false
   },
   "outputs": [
    {
     "name": "stdout",
     "output_type": "stream",
     "text": [
      "                           Importance\n",
      "bathrooms_text              21.309205\n",
      "bedrooms                    19.060193\n",
      "beds                        12.608117\n",
      "Adalar                       0.188413\n",
      "Arnavutkoy                   0.595040\n",
      "Basaksehir                   0.141514\n",
      "Besiktas                     0.221172\n",
      "Beykoz                       1.892554\n",
      "Beyoglu                      0.464671\n",
      "Buyukcekmece                 0.532122\n",
      "Esenyurt                     0.511301\n",
      "Eyup                         0.065111\n",
      "Fatih                        0.889680\n",
      "Kadikoy                      0.577528\n",
      "Kagithane                    0.218638\n",
      "Kucukcekmece                 0.226854\n",
      "Maltepe                      0.182769\n",
      "Sariyer                      5.010856\n",
      "Sile                         0.303564\n",
      "Silivri                      0.521215\n",
      "Sisli                        0.444527\n",
      "Umraniye                     0.080556\n",
      "Uskudar                      0.194852\n",
      "Zeytinburnu                  0.541656\n",
      "Entire apartment             1.657898\n",
      "Entire house                 0.547709\n",
      "Entire villa                16.246727\n",
      "Private room in apartment    3.782688\n",
      "Entire home/apt              5.270866\n",
      "Private room                 4.840630\n",
      "Shared room                  0.871372\n"
     ]
    }
   ],
   "source": [
    "#Feature importance checking\n",
    "Importance = pd.DataFrame({\"Importance\": rf_tuned.feature_importances_*100},\n",
    "                         index = X_train.columns)\n",
    "pd.set_option('display.max_rows', None)\n",
    "print(Importance)"
   ]
  },
  {
   "cell_type": "code",
   "execution_count": 89,
   "metadata": {},
   "outputs": [
    {
     "data": {
      "text/plain": [
       "Text(0.5, 0, 'Değişken Önem Düzeyleri')"
      ]
     },
     "execution_count": 89,
     "metadata": {},
     "output_type": "execute_result"
    },
    {
     "data": {
      "image/png": "[encoded data removed]",
      "text/plain": [
       "<Figure size 432x288 with 1 Axes>"
      ]
     },
     "metadata": {
      "needs_background": "light"
     },
     "output_type": "display_data"
    }
   ],
   "source": [
    "#Sorting importance values\n",
    "Importance.sort_values(by = \"Importance\", \n",
    "                       axis = 0, \n",
    "                       ascending = True).plot(kind =\"barh\", color = \"r\")\n",
    "\n",
    "plt.xlabel(\"Değişken Önem Düzeyleri\")"
   ]
  },
  {
   "cell_type": "code",
   "execution_count": 90,
   "metadata": {},
   "outputs": [
    {
     "name": "stdout",
     "output_type": "stream",
     "text": [
      "Mean Absolute Error: 252.4465753315925\n",
      "Mean Squared Error: 320905.8093049938\n",
      "Root Mean Squared Error: 566.485489050685\n"
     ]
    }
   ],
   "source": [
    "from sklearn import metrics\n",
    "\n",
    "print('Mean Absolute Error:', metrics.mean_absolute_error(y_test, y_pred))\n",
    "print('Mean Squared Error:', metrics.mean_squared_error(y_test, y_pred))\n",
    "print('Root Mean Squared Error:', np.sqrt(metrics.mean_squared_error(y_test, y_pred)))"
   ]
  },
  {
   "cell_type": "markdown",
   "metadata": {},
   "source": [
    "## Examine the remaining features after feature importance"
   ]
  },
  {
   "cell_type": "code",
   "execution_count": 91,
   "metadata": {},
   "outputs": [
    {
     "name": "stdout",
     "output_type": "stream",
     "text": [
      "<class 'pandas.core.frame.DataFrame'>\n",
      "Int64Index: 24440 entries, 0 to 24518\n",
      "Data columns (total 32 columns):\n",
      " #   Column                     Non-Null Count  Dtype  \n",
      "---  ------                     --------------  -----  \n",
      " 0   bathrooms_text             24440 non-null  float64\n",
      " 1   bedrooms                   24440 non-null  float64\n",
      " 2   beds                       24440 non-null  float64\n",
      " 3   price                      24440 non-null  int64  \n",
      " 4   Adalar                     24440 non-null  uint8  \n",
      " 5   Arnavutkoy                 24440 non-null  uint8  \n",
      " 6   Basaksehir                 24440 non-null  uint8  \n",
      " 7   Besiktas                   24440 non-null  uint8  \n",
      " 8   Beykoz                     24440 non-null  uint8  \n",
      " 9   Beyoglu                    24440 non-null  uint8  \n",
      " 10  Buyukcekmece               24440 non-null  uint8  \n",
      " 11  Esenyurt                   24440 non-null  uint8  \n",
      " 12  Eyup                       24440 non-null  uint8  \n",
      " 13  Fatih                      24440 non-null  uint8  \n",
      " 14  Kadikoy                    24440 non-null  uint8  \n",
      " 15  Kagithane                  24440 non-null  uint8  \n",
      " 16  Kucukcekmece               24440 non-null  uint8  \n",
      " 17  Maltepe                    24440 non-null  uint8  \n",
      " 18  Sariyer                    24440 non-null  uint8  \n",
      " 19  Sile                       24440 non-null  uint8  \n",
      " 20  Silivri                    24440 non-null  uint8  \n",
      " 21  Sisli                      24440 non-null  uint8  \n",
      " 22  Umraniye                   24440 non-null  uint8  \n",
      " 23  Uskudar                    24440 non-null  uint8  \n",
      " 24  Zeytinburnu                24440 non-null  uint8  \n",
      " 25  Entire apartment           24440 non-null  uint8  \n",
      " 26  Entire house               24440 non-null  uint8  \n",
      " 27  Entire villa               24440 non-null  uint8  \n",
      " 28  Private room in apartment  24440 non-null  uint8  \n",
      " 29  Entire home/apt            24440 non-null  uint8  \n",
      " 30  Private room               24440 non-null  uint8  \n",
      " 31  Shared room                24440 non-null  uint8  \n",
      "dtypes: float64(3), int64(1), uint8(28)\n",
      "memory usage: 1.6 MB\n"
     ]
    }
   ],
   "source": [
    "#Detailed representation these features\n",
    "df.info()"
   ]
  },
  {
   "cell_type": "markdown",
   "metadata": {},
   "source": [
    "# Save Model"
   ]
  },
  {
   "cell_type": "markdown",
   "metadata": {},
   "source": [
    "## Joblib Module"
   ]
  },
  {
   "cell_type": "code",
   "execution_count": 92,
   "metadata": {},
   "outputs": [],
   "source": [
    "#from sklearn.externals import joblib\n",
    "import joblib\n",
    "\n",
    "# Save to file in the current working directory\n",
    "joblib_file = \"joblib_model_2.pkl\"\n",
    "joblib.dump(rf_tuned, joblib_file)\n",
    "\n",
    "# Load from file\n",
    "joblib_model = joblib.load(joblib_file)\n"
   ]
  },
  {
   "cell_type": "code",
   "execution_count": 93,
   "metadata": {},
   "outputs": [
    {
     "data": {
      "text/plain": [
       "array([405.53592704, 422.40691729, 302.87316597, ..., 444.4288604 ,\n",
       "       351.39750575, 413.71503315])"
      ]
     },
     "execution_count": 93,
     "metadata": {},
     "output_type": "execute_result"
    }
   ],
   "source": [
    "Ypredict = joblib_model.predict(X_test)\n",
    "Ypredict"
   ]
  },
  {
   "cell_type": "code",
   "execution_count": 94,
   "metadata": {},
   "outputs": [
    {
     "data": {
      "text/plain": [
       "array([405.53592704, 422.40691729, 302.87316597, ..., 444.4288604 ,\n",
       "       351.39750575, 413.71503315])"
      ]
     },
     "execution_count": 94,
     "metadata": {},
     "output_type": "execute_result"
    }
   ],
   "source": [
    "rf_tuned.predict(X_test)"
   ]
  },
  {
   "cell_type": "markdown",
   "metadata": {},
   "source": [
    "## Pickle Module"
   ]
  },
  {
   "cell_type": "code",
   "execution_count": 95,
   "metadata": {},
   "outputs": [],
   "source": [
    "import pickle"
   ]
  },
  {
   "cell_type": "code",
   "execution_count": 96,
   "metadata": {},
   "outputs": [],
   "source": [
    "# Save to file in the current working directory\n",
    "pkl_filename = \"pickle_model_2.pkl\"\n",
    "with open(pkl_filename, 'wb') as file:\n",
    "    pickle.dump(rf_tuned, file)"
   ]
  },
  {
   "cell_type": "code",
   "execution_count": 97,
   "metadata": {},
   "outputs": [],
   "source": [
    "# Load from file\n",
    "with open(pkl_filename, 'rb') as file:\n",
    "    pickle_model = pickle.load(file)"
   ]
  },
  {
   "cell_type": "code",
   "execution_count": 98,
   "metadata": {},
   "outputs": [
    {
     "data": {
      "text/plain": [
       "array([405.53592704, 422.40691729, 302.87316597, ..., 444.4288604 ,\n",
       "       351.39750575, 413.71503315])"
      ]
     },
     "execution_count": 98,
     "metadata": {},
     "output_type": "execute_result"
    }
   ],
   "source": [
    "Ypredict_pickle = pickle_model.predict(X_test)\n",
    "Ypredict_pickle"
   ]
  },
  {
   "cell_type": "code",
   "execution_count": 99,
   "metadata": {
    "scrolled": false
   },
   "outputs": [
    {
     "name": "stdout",
     "output_type": "stream",
     "text": [
      "<class 'pandas.core.frame.DataFrame'>\n",
      "Int64Index: 6110 entries, 15329 to 22259\n",
      "Data columns (total 31 columns):\n",
      " #   Column                     Non-Null Count  Dtype\n",
      "---  ------                     --------------  -----\n",
      " 0   bathrooms_text             6110 non-null   int64\n",
      " 1   bedrooms                   6110 non-null   int64\n",
      " 2   beds                       6110 non-null   int64\n",
      " 3   Adalar                     6110 non-null   int64\n",
      " 4   Arnavutkoy                 6110 non-null   int64\n",
      " 5   Basaksehir                 6110 non-null   int64\n",
      " 6   Besiktas                   6110 non-null   int64\n",
      " 7   Beykoz                     6110 non-null   int64\n",
      " 8   Beyoglu                    6110 non-null   int64\n",
      " 9   Buyukcekmece               6110 non-null   int64\n",
      " 10  Esenyurt                   6110 non-null   int64\n",
      " 11  Eyup                       6110 non-null   int64\n",
      " 12  Fatih                      6110 non-null   int64\n",
      " 13  Kadikoy                    6110 non-null   int64\n",
      " 14  Kagithane                  6110 non-null   int64\n",
      " 15  Kucukcekmece               6110 non-null   int64\n",
      " 16  Maltepe                    6110 non-null   int64\n",
      " 17  Sariyer                    6110 non-null   int64\n",
      " 18  Sile                       6110 non-null   int64\n",
      " 19  Silivri                    6110 non-null   int64\n",
      " 20  Sisli                      6110 non-null   int64\n",
      " 21  Umraniye                   6110 non-null   int64\n",
      " 22  Uskudar                    6110 non-null   int64\n",
      " 23  Zeytinburnu                6110 non-null   int64\n",
      " 24  Entire apartment           6110 non-null   int64\n",
      " 25  Entire house               6110 non-null   int64\n",
      " 26  Entire villa               6110 non-null   int64\n",
      " 27  Private room in apartment  6110 non-null   int64\n",
      " 28  Entire home/apt            6110 non-null   int64\n",
      " 29  Private room               6110 non-null   int64\n",
      " 30  Shared room                6110 non-null   int64\n",
      "dtypes: int64(31)\n",
      "memory usage: 1.5 MB\n",
      "None\n"
     ]
    }
   ],
   "source": [
    "print(X_test.info())"
   ]
  },
  {
   "cell_type": "code",
   "execution_count": 100,
   "metadata": {},
   "outputs": [
    {
     "name": "stdout",
     "output_type": "stream",
     "text": [
      "[405.53592704 422.40691729 302.87316597 ... 444.4288604  351.39750575\n",
      " 413.71503315]\n"
     ]
    }
   ],
   "source": [
    "print(y_pred)"
   ]
  },
  {
   "cell_type": "code",
   "execution_count": 101,
   "metadata": {},
   "outputs": [
    {
     "data": {
      "text/plain": [
       "array([ 1,  2,  4,  3,  6,  5,  0, 12,  8, 13, 10,  7, 14, 20, 22, 18, 25,\n",
       "       15, 24, 30], dtype=int64)"
      ]
     },
     "execution_count": 101,
     "metadata": {},
     "output_type": "execute_result"
    }
   ],
   "source": [
    "X_test.bathrooms_text.unique()"
   ]
  },
  {
   "cell_type": "code",
   "execution_count": 102,
   "metadata": {},
   "outputs": [
    {
     "data": {
      "text/plain": [
       "array([ 1,  2,  3,  4,  5,  6, 12,  7, 15,  8, 35, 10, 14, 20, 22, 50, 19,\n",
       "       16, 18, 25,  9, 24, 48], dtype=int64)"
      ]
     },
     "execution_count": 102,
     "metadata": {},
     "output_type": "execute_result"
    }
   ],
   "source": [
    "X_test.bedrooms.unique()"
   ]
  },
  {
   "cell_type": "code",
   "execution_count": 103,
   "metadata": {},
   "outputs": [
    {
     "data": {
      "text/plain": [
       "array([ 2,  3,  1,  5,  0,  6,  4, 18, 10,  7, 14,  8, 22,  9, 20, 15, 32,\n",
       "       34, 16, 13, 35, 50, 11, 24, 37, 12, 17], dtype=int64)"
      ]
     },
     "execution_count": 103,
     "metadata": {},
     "output_type": "execute_result"
    }
   ],
   "source": [
    "X_test.beds.unique()"
   ]
  },
  {
   "cell_type": "code",
   "execution_count": 104,
   "metadata": {},
   "outputs": [
    {
     "data": {
      "text/plain": [
       "array([0, 1], dtype=int64)"
      ]
     },
     "execution_count": 104,
     "metadata": {},
     "output_type": "execute_result"
    }
   ],
   "source": [
    "X_test[\"Shared room\"].unique()"
   ]
  },
  {
   "cell_type": "code",
   "execution_count": null,
   "metadata": {},
   "outputs": [],
   "source": []
  }
 ],
 "metadata": {
  "kernelspec": {
   "display_name": "Python 3",
   "language": "python",
   "name": "python3"
  },
  "language_info": {
   "codemirror_mode": {
    "name": "ipython",
    "version": 3
   },
   "file_extension": ".py",
   "mimetype": "text/x-python",
   "name": "python",
   "nbconvert_exporter": "python",
   "pygments_lexer": "ipython3",
   "version": "3.8.3"
  }
 },
 "nbformat": 4,
 "nbformat_minor": 4
}
